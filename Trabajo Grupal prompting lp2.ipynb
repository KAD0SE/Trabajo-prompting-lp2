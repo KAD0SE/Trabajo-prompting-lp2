{
 "cells": [
  {
   "cell_type": "markdown",
   "id": "a541f8be",
   "metadata": {},
   "source": [
    "# Tutorial de prompting efectivos para expresiones regulares con modelos de lenguaje extensos (MLL)"
   ]
  },
  {
   "cell_type": "markdown",
   "id": "574b6157",
   "metadata": {},
   "source": [
    "### Concepto\n",
    "Las expresiones regulares, también conocidas como regex o regexp, son patrones de búsqueda utilizados para encontrar, validar o manipular cadenas de texto de manera eficiente. En Python, el módulo 're' proporciona funciones y métodos para trabajar con expresiones regulares.\n",
    "\n",
    "### ¿Por qué usar Expresiones Regulares?\n",
    "Permiten realizar búsquedas, extracciones y validaciones eficientes en cadenas de texto. Son útiles para manipular y transformar texto, analizar archivos de log, realizar web scraping, validar formularios y automatizar tareas de edición de texto. Con su capacidad para definir patrones específicos, las expresiones regulares facilitan la manipulación y análisis de datos de manera precisa y eficaz en una variedad de aplicaciones de programación y procesamiento de información.\n",
    "\n",
    "### Modelos de lenguaje extenso (MLL)\n",
    "Un modelo de lenguaje extenso se refiere a un sistema de inteligencia artificial diseñado para comprender y generar lenguaje humano de manera profunda y versátil.\n",
    "Estos modelos están entrenados con grandes cantidades de datos textuales para entender el contexto, la gramática, el significado y la estructura del lenguaje, para simplificar, este tipo de inteligencia artificial utiliza un banco de datos ya existente para crear algo nuevo o entender algo y explicarlo.\n",
    "\n",
    "### ¿Qué es el prompting con modelos de lenguaje extenso?\n",
    "Para comenzar debemos saber que un promtp en este contexto de los MLL se refiere a una instrucción o texto inicial proporcionado al lenguaje para guiar y orientar la generación de respuestas o texto coherente. Puede ser una frase, una pregunta o incluso un párrafo completo que establece el contexto o define la tarea que se espera que el sistema de IA cumpla.\n",
    "El propósito principal de un prompt es influir en la salida generada por el modelo, inclusive hay páginas que tratan sobre prompts en varios modelos de lenguaje extenso como [Foro prompt](https://foroprompt.com/).\n",
    "\n",
    "### Prompts para expresiones regulares con ChatGPT (GPT 3.5)\n",
    "Para este tutorial usaremos el modelo de lenguaje extenso de OpenAI, [ChatGPT](https://chat.openai.com/), representando las interacciones del usuario y la IA.\n"
   ]
  },
  {
   "cell_type": "markdown",
   "id": "be51992c-e737-4ebf-8597-36d3cfa93818",
   "metadata": {},
   "source": [
    "### Sintaxis básica\n",
    "\n",
    "El prompt que usaremos para la sintaxis básica:\n",
    "```\n",
    "User: Dame la principal sintaxis de expresiones regulares, expresadas por símbolos sin mencionar el tipo, con su respectivo símbolo y función.\n",
    "  \n",
    "IA: ¡Claro! Aquí tienes una lista de símbolos y sus funciones principales en expresiones regulares:\n",
    "\n",
    "    1. \".\" - Punto\n",
    "    - Función: Coincide con cualquier carácter, excepto saltos de línea.\n",
    "    \n",
    "    2. \"^\" - Circunflejo\n",
    "    - Función: Coincide con el inicio de una cadena.\n",
    "\n",
    "    3. \"$\" - Signo de dólar\n",
    "    - Función: Coincide con el final de una cadena.\n",
    "\n",
    "    4. \"*\" - Asterisco\n",
    "    - Función: Coincide con cero o más ocurrencias del carácter o grupo anterior.\n",
    "\n",
    "    5. \"+\" - Signo de más\n",
    "    - Función: Coincide con una o más ocurrencias del carácter o grupo anterior.\n",
    "\n",
    "    6. \"?\" - Signo de interrogación\n",
    "    - Función: Coincide con cero o una ocurrencia del carácter o grupo anterior.\n",
    "\n",
    "    7. \"[]\" - Corchetes\n",
    "    - Función: Define un conjunto de caracteres permitidos.\n",
    "\n",
    "    8. \"()\" - Paréntesis\n",
    "    Función: Agrupa caracteres para aplicar operadores como *, +, ? o para definir subpatrones.\n",
    "\n",
    "    9. \"|\" - Barra vertical\n",
    "    Función: Se utiliza para realizar una coincidencia tipo \"o\" entre patrones.\n",
    "\n",
    "    10. \"\\\" - Barra invertida\n",
    "    Función: Escapa caracteres especiales o introduce secuencias de escape para representar caracteres especiales como \\d, \\w, etc.\n",
    "\n",
    "    Estos son algunos de los símbolos más fundamentales en expresiones regulares, y cada uno tiene su propia función para definir patrones de búsqueda en texto.\n",
    "\n",
    "```\n",
    "\n",
    "Dicho sea de paso, también podremos decirle a la IA que nos haga una tabla de eso, usando el prompt:\n",
    "\n",
    "```\n",
    "User: En una tabla dame la principal sintaxis de expresiones regulares, expresadas por símbolos sin mencionar el tipo, con su respectivo símbolo y función.\n",
    "IA: Claro, aquí te presento una tabla con la principal sintaxis de expresiones regulares, sus símbolos y funciones:\n",
    "```\n",
    "\n",
    "| Símbolo | Función                                        |\r\n",
    "|---------|------------------------------------------------|\r\n",
    "| .       | Coincide con cualquier carácter excepto salto de línea |\r\n",
    "| ^       | Coincide al inicio de una cadena              |\r\n",
    "| $       | Coincide al final de una cadena               |\r\n",
    "| *       | Coincide con cero o más repeticiones del elemento anterior |\r\n",
    "| +       | Coincide con una o más repeticiones del elemento anterior |\r\n",
    "| ?       | Coincide con cero o una repetición del elemento anterior |\r\n",
    "| []      | Coincide con cualquier carácter dentro de los corchetes |\r\n",
    "| [^]     | Coincide con cualquier carácter que no esté dentro de los corchetes |\r\n",
    "| ()      | Agrupa expresiones y recuerda la coincidencia    |\r\n",
    "| \\|      | Alterna entre diferentes opciones de coincidencia |\r\n",
    "| \\       | Escapa el significado especial de un carácter   |\r\n",
    "\n"
   ]
  },
  {
   "cell_type": "markdown",
   "id": "8d833f01",
   "metadata": {},
   "source": [
    "### Expresiones regulares con un archivo de texto\n",
    "Para este tutorial, haremos uso de un archivo de texto con texto variado para poner en práctica expresiones regulares:"
   ]
  },
  {
   "cell_type": "code",
   "execution_count": 1,
   "id": "5b8798f1",
   "metadata": {},
   "outputs": [
    {
     "name": "stdout",
     "output_type": "stream",
     "text": [
      "Este es un texto variado con múltiples tipos de datos para practicar expresiones regulares:\n",
      "\n",
      "Conoce tu futura universidad junto a tus familiares y amigos\n",
      "disfruta esta gran experiencia molinera en la mejor universidad del Perú en Ciencias Agrícolas.\n",
      "\n",
      "Más información: https://admision.lamolina.edu.pe/talleres\n",
      "Informes WhatsApp: 937413951 / 978585632\n",
      "\n",
      "Direcciones de correo electrónico:\n",
      "usuario1@example.com, correo.123@dominio.co, correo@empresa.org,\n",
      "otrocorreo@email.com, usuario_sin_arroba.com, correo_erroneo@.com,\n",
      "email_valido@subdominio.net, direccion@dominio.com.mx,\n",
      "correo@dominio.invalido, correo_con_simbolos@dominio.co.uk,\n",
      "correo123@email.com, ejemplodecorreo@gmail.com\n",
      "\n",
      "Números de teléfono sin guión:\n",
      "943854789, 945384284, 934857643, 943284768, 953287366\n",
      "\n",
      "Números de teléfono con guión:\n",
      " \n",
      "\n",
      "URLs:\n",
      "https://www.facebook.com, http://youtube.com, https://discord.com/\n",
      "https://chat.openai.com/, https://visualstudio.microsoft.com/es/\n",
      "https://open.spotify.com/intl-es\n",
      "\n",
      "Fechas:\n",
      "15/03/2023, 2023-06-30, 07-10-22, 10/11/21, 2022/12/31\n",
      "\n",
      "Datos estructurados:\n",
      "Nombre: Juan Pérez\n",
      "Edad: 35\n",
      "Ciudad: Ciudad de México\n",
      "Ocupación: Ingeniero de Software\n",
      "\n",
      "Nombre: María García\n",
      "Edad: 28\n",
      "Ciudad: Madrid\n",
      "Ocupación: Diseñadora Gráfica\n",
      "\n",
      "Nombre: Ana Armas\n",
      "Edad: 33\n",
      "Ciudad: Cuba\n",
      "Ocupación: Ingeniera de sistemas\n"
     ]
    }
   ],
   "source": [
    "# Leyendo el archivo de texto\n",
    "fichero=open(\"retext.txt\",\"r\", encoding=\"utf-8\")\n",
    "leer=fichero.read()\n",
    "fichero.close()\n",
    "print(leer)"
   ]
  },
  {
   "cell_type": "markdown",
   "id": "591ef6fb-aa60-4269-86a7-a9115e96afe4",
   "metadata": {},
   "source": [
    "### Prompts para generar expresiones regulares y hallar coincidencias"
   ]
  },
  {
   "cell_type": "markdown",
   "id": "0ace08ff-1656-47a9-bcf8-fb4720b4ce46",
   "metadata": {},
   "source": [
    "Usaremos el siguiente prompt para configurar la IA\n",
    "\n",
    "```\n",
    "User: Quiero que actúes como un generador de expresiones regulares. Su función es generar expresiones regulares que coincidan con patrones específicos en el texto. Debe proporcionar las expresiones regulares en un formato que se pueda copiar y pegar fácilmente en un editor de texto o lenguaje de programación habilitado para expresiones regulares. No escriba explicaciones o ejemplos de cómo funcionan las expresiones regulares; simplemente proporcione solo las expresiones regulares en sí.\n",
    "\n",
    "IA: ¡Por supuesto! ¿Qué patrones específicos estás buscando coincidir en el texto?\n",
    "```\n",
    "Una vez configurada la IA está lista para generar expresiones regulares para buscar coincidencias."
   ]
  },
  {
   "cell_type": "markdown",
   "id": "0118926c-5a06-42ca-b146-1d3c63a9b75c",
   "metadata": {},
   "source": [
    "- Para buscar coincidencias con correos electrónicos:\n",
    "\n",
    "  ```\n",
    "  User: Coincidencias con correos electrónicos.\n",
    "\n",
    "  IA: Claro, aquí tienes una expresión regular que coincide con direcciones de correo electrónico:\n",
    "      [A-Za-z0-9._%+-]+@[A-Za-z0-9.-]+\\.[A-Za-z]{2,}\r\n",
    "\n",
    "  ```\n"
   ]
  },
  {
   "cell_type": "code",
   "execution_count": 13,
   "id": "6a52e7c4-0860-4a77-a508-0924b8e9929a",
   "metadata": {},
   "outputs": [
    {
     "name": "stdout",
     "output_type": "stream",
     "text": [
      "['usuario1@example.com', 'correo.123@dominio.co', 'correo@empresa.org', 'otrocorreo@email.com', 'email_valido@subdominio.net', 'direccion@dominio.com.mx', 'correo@dominio.invalido', 'correo_con_simbolos@dominio.co.uk', 'correo123@email.com', 'ejemplodecorreo@gmail.com']\n"
     ]
    }
   ],
   "source": [
    "#Implementando la expresión regular generada para coincidir con correos en código python:\n",
    "import re\n",
    "\n",
    "with open(\"retext.txt\", \"r\", encoding=\"utf-8\") as archivotexto:\n",
    "    texto = archivotexto.read()\n",
    "    patron_email = r\"[A-Za-z0-9._%+-]+@[A-Za-z0-9.-]+\\.[A-Za-z]{2,}\"\n",
    "    emails_encontrados = re.findall(patron_email, texto)\n",
    "    print(emails_encontrados)"
   ]
  },
  {
   "cell_type": "code",
   "execution_count": 25,
   "id": "b0b85ae7-b616-49a0-9883-7b79510ed170",
   "metadata": {},
   "outputs": [
    {
     "name": "stdout",
     "output_type": "stream",
     "text": [
      "10\n"
     ]
    }
   ],
   "source": [
    "#Contando la cantidad de correos encontrados:\n",
    "import re\n",
    "text = open(\"retext.txt\", \"r\", encoding=\"utf-8\")\n",
    "i = 0\n",
    "for linea in text:\n",
    "    linea = linea.rstrip()\n",
    "    x = re.findall(\"[A-Za-z0-9._%+-]+@[A-Za-z0-9.-]+\\.[A-Za-z]{2,}\",linea)\n",
    "    if len(x)>0:\n",
    "        i += len(x) #i = i + len(x)\n",
    "print(i)\n",
    "text.close()\n"
   ]
  },
  {
   "cell_type": "markdown",
   "id": "9752f789",
   "metadata": {},
   "source": [
    "- Buscando enlaces de páginas:\n",
    "\n",
    "  ```\n",
    "  User: Quiero encontrar enlaces URL.\n",
    "\n",
    "  IA: Claro, aquí tienes una expresión regular para encontrar enlaces URL en un texto:\n",
    "  \n",
    "      \\bhttps?:\\/\\/\\S+\\b\r\n",
    "  \n",
    "      Esta expresión regular coincide con enlaces URL que comienzan con \"http://\" o \"https://\" seguido de uno o más caracteres que no sean espacios en blanco hasta encontrar un límite de palabra.\n",
    "\n",
    "  ```"
   ]
  },
  {
   "cell_type": "code",
   "execution_count": 21,
   "id": "e16d0e1d",
   "metadata": {},
   "outputs": [
    {
     "name": "stdout",
     "output_type": "stream",
     "text": [
      "['https://admision.lamolina.edu.pe/talleres', 'https://www.facebook.com', 'http://youtube.com', 'https://discord.com', 'https://chat.openai.com', 'https://visualstudio.microsoft.com/es', 'https://open.spotify.com/intl-es']\n"
     ]
    }
   ],
   "source": [
    "#Aplicación en python\n",
    "import re\n",
    "\n",
    "with open(\"retext.txt\", \"r\", encoding=\"utf-8\") as archivotexto:\n",
    "    texto = archivotexto.read()\n",
    "    patron_email = r\"\\bhttps?:\\/\\/\\S+\\b\"\n",
    "    emails_encontrados = re.findall(patron_email, texto)\n",
    "    print(emails_encontrados)"
   ]
  },
  {
   "cell_type": "code",
   "execution_count": 38,
   "id": "b2e8fe3c-6b8f-41d3-8e21-da528ac309e2",
   "metadata": {},
   "outputs": [
    {
     "name": "stdout",
     "output_type": "stream",
     "text": [
      "7\n"
     ]
    }
   ],
   "source": [
    "#Conteo para las coincidencias\n",
    "import re\n",
    "\n",
    "with open(\"retext.txt\", \"r\", encoding=\"utf-8\") as texto:\n",
    "    texto = texto.read()\n",
    "\n",
    "patronre = r\"\\bhttps?:\\/\\/\\S+\\b\"\n",
    "\n",
    "coincidencias = re.findall(patronre, texto)\n",
    "\n",
    "total_coincidencias = len(coincidencias)\n",
    "print(total_coincidencias)\n"
   ]
  },
  {
   "cell_type": "code",
   "execution_count": null,
   "id": "cf419806-a4da-49eb-8a48-16755752ed15",
   "metadata": {},
   "outputs": [],
   "source": []
  }
 ],
 "metadata": {
  "kernelspec": {
   "display_name": "Python 3 (ipykernel)",
   "language": "python",
   "name": "python3"
  },
  "language_info": {
   "codemirror_mode": {
    "name": "ipython",
    "version": 3
   },
   "file_extension": ".py",
   "mimetype": "text/x-python",
   "name": "python",
   "nbconvert_exporter": "python",
   "pygments_lexer": "ipython3",
   "version": "3.11.5"
  }
 },
 "nbformat": 4,
 "nbformat_minor": 5
}
