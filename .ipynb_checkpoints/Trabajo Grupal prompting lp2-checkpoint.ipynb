{
 "cells": [
  {
   "cell_type": "markdown",
   "id": "a541f8be",
   "metadata": {},
   "source": [
    "# Tutorial de prompting efectivos para expresiones regulares "
   ]
  },
  {
   "cell_type": "markdown",
   "id": "574b6157",
   "metadata": {},
   "source": [
    "### Concepto\n",
    "Las expresiones regulares, también conocidas como regex o regexp, son patrones de búsqueda utilizados para encontrar, validar o manipular cadenas de texto de manera eficiente. En Python, el módulo 're' proporciona funciones y métodos para trabajar con expresiones regulares.\n",
    "\n",
    "### Aplicaciones\n",
    "Búsqueda, validación, extracción y manipulación de texto."
   ]
  },
  {
   "cell_type": "code",
   "execution_count": null,
   "id": "b57adfb8",
   "metadata": {},
   "outputs": [],
   "source": []
  }
 ],
 "metadata": {
  "kernelspec": {
   "display_name": "Python 3 (ipykernel)",
   "language": "python",
   "name": "python3"
  },
  "language_info": {
   "codemirror_mode": {
    "name": "ipython",
    "version": 3
   },
   "file_extension": ".py",
   "mimetype": "text/x-python",
   "name": "python",
   "nbconvert_exporter": "python",
   "pygments_lexer": "ipython3",
   "version": "3.11.4"
  }
 },
 "nbformat": 4,
 "nbformat_minor": 5
}
