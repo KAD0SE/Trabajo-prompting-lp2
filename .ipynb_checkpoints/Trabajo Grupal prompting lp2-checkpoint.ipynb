{
 "cells": [
  {
   "cell_type": "markdown",
   "id": "a541f8be",
   "metadata": {},
   "source": [
    "# Tutorial de prompting efectivos para expresiones regulares "
   ]
  },
  {
   "cell_type": "markdown",
   "id": "574b6157",
   "metadata": {},
   "source": [
    "### Concepto\n",
    "Las expresiones regulares, también conocidas como regex o regexp, son patrones de búsqueda utilizados para encontrar, validar o manipular cadenas de texto de manera eficiente. En Python, el módulo 're' proporciona funciones y métodos para trabajar con expresiones regulares.\n",
    "\n",
    "### ¿Por qué usar Expresiones Regulares?\n",
    "Permiten realizar búsquedas, extracciones y validaciones eficientes en cadenas de texto. Son útiles para manipular y transformar texto, analizar archivos de log, realizar web scraping, validar formularios y automatizar tareas de edición de texto. Con su capacidad para definir patrones específicos, las expresiones regulares facilitan la manipulación y análisis de datos de manera precisa y eficaz en una variedad de aplicaciones de programación y procesamiento de información."
   ]
  },
  {
   "cell_type": "markdown",
   "id": "3b91942b",
   "metadata": {},
   "source": [
    "### Sintaxis básica\n",
    "\n",
    "Caracteres literales:\n",
    "- $ abc $ : Coincide con la secuencia 'abc'.\n",
    "Metacaracteres:\n",
    "- $ . $ : Cualquier carácter excepto nueva línea.\n",
    "- $ * $ : Cero o más repeticiones del carácter anterior.\n",
    "- $ + $ : Una o más repeticiones del carácter anterior.\n",
    "- $ ? $ : Cero o una repetición del carácter anterior.\n",
    "-  ^  : Coincide al principio de la cadena.\n",
    "-  $  : Coincide al final de la cadena.\n",
    "\n",
    "Conjunto de caracteres:\n",
    "-  [aeiou] : Coincide con cualquier vocal.\n",
    "\n",
    "Secuencia de escape:\n",
    "-  \\d  : Cualquier dígito.\n",
    "- \\w : Cualquier carácter alfanumérico.\n",
    "- \\s : Cualquier espacio en blanco.\n",
    "\n"
   ]
  },
  {
   "cell_type": "markdown",
   "id": "1e0abd6c",
   "metadata": {},
   "source": [
    "### Documentación oficial de Python de expresiones regulares\n",
    "- https://docs.python.org/es/3/howto/regex.html"
   ]
  },
  {
   "cell_type": "markdown",
   "id": "8d833f01",
   "metadata": {},
   "source": [
    "### Ejemplo:\n",
    "- Leyendo archivo de texto "
   ]
  },
  {
   "cell_type": "code",
   "execution_count": 1,
   "id": "5b8798f1",
   "metadata": {},
   "outputs": [
    {
     "name": "stdout",
     "output_type": "stream",
     "text": [
      "Este es un texto variado con múltiples tipos de datos para practicar expresiones regulares:\n",
      "\n",
      "Conoce tu futura universidad junto a tus familiares y amigos\n",
      "disfruta esta gran experiencia molinera en la mejor universidad del Perú en Ciencias Agrícolas.\n",
      "\n",
      "Más información: https://admision.lamolina.edu.pe/talleres\n",
      "Informes WhatsApp: 937413951 / 978585632\n",
      "\n",
      "Direcciones de correo electrónico:\n",
      "usuario1@example.com, correo.123@dominio.co, correo@empresa.org,\n",
      "otrocorreo@email.com, usuario_sin_arroba.com, correo_erroneo@.com,\n",
      "email_valido@subdominio.net, direccion@dominio.com.mx,\n",
      "correo@dominio.invalido, correo_con_simbolos@dominio.co.uk,\n",
      "correo123@email.com, ejemplodecorreo@gmail.com\n",
      "\n",
      "Números de teléfono sin guión:\n",
      "943854789, 945384284, 934857643, 943284768, 953287366\n",
      "\n",
      "Números de teléfono con guión:\n",
      " \n",
      "\n",
      "URLs:\n",
      "https://www.facebook.com, http://youtube.com, https://discord.com/\n",
      "https://chat.openai.com/, https://visualstudio.microsoft.com/es/\n",
      "https://open.spotify.com/intl-es\n",
      "\n",
      "Fechas:\n",
      "15/03/2023, 2023-06-30, 07-10-22, 10/11/21, 2022/12/31\n",
      "\n",
      "Datos estructurados:\n",
      "Nombre: Juan Pérez\n",
      "Edad: 35\n",
      "Ciudad: Ciudad de México\n",
      "Ocupación: Ingeniero de Software\n",
      "\n",
      "Nombre: María García\n",
      "Edad: 28\n",
      "Ciudad: Madrid\n",
      "Ocupación: Diseñadora Gráfica\n",
      "\n",
      "Nombre: Ana Armas\n",
      "Edad: 33\n",
      "Ciudad: Cuba\n",
      "Ocupación: Ingeniera de sistemas\n"
     ]
    }
   ],
   "source": [
    "# LEER\n",
    "fichero=open(\"retext.txt\",\"r\", encoding=\"utf-8\")\n",
    "leer=fichero.read()\n",
    "fichero.close()\n",
    "print(leer)"
   ]
  },
  {
   "cell_type": "markdown",
   "id": "8a2ffb39",
   "metadata": {},
   "source": [
    "- Contar las veces que aparece @ en el texto y buscar las lineas que lo contiene:"
   ]
  },
  {
   "cell_type": "code",
   "execution_count": 3,
   "id": "2540b675",
   "metadata": {},
   "outputs": [
    {
     "name": "stdout",
     "output_type": "stream",
     "text": [
      "11\n",
      "usuario1@example.com, correo.123@dominio.co, correo@empresa.org,\n",
      "['usuario1@example.com, correo.123@dominio.co, correo@empresa.org,']\n",
      "otrocorreo@email.com, usuario_sin_arroba.com, correo_erroneo@.com,\n",
      "['otrocorreo@email.com, usuario_sin_arroba.com, correo_erroneo@.com,']\n",
      "email_valido@subdominio.net, direccion@dominio.com.mx,\n",
      "['email_valido@subdominio.net, direccion@dominio.com.mx,']\n",
      "correo@dominio.invalido, correo_con_simbolos@dominio.co.uk,\n",
      "['correo@dominio.invalido, correo_con_simbolos@dominio.co.uk,']\n",
      "correo123@email.com, ejemplodecorreo@gmail.com\n",
      "['correo123@email.com, ejemplodecorreo@gmail.com']\n"
     ]
    }
   ],
   "source": [
    "import re\n",
    "text = open(\"retext.txt\")\n",
    "i=0\n",
    "for linea in text:\n",
    "    linea = linea.rstrip()\n",
    "    x= re.findall('@',linea)\n",
    "    if len(x) > 0:\n",
    "        i += len(x)  ##i = i + len(x)\n",
    "        #print(x) \n",
    "print(i)\n",
    "text.close()\n",
    "\n",
    "texto = open(\"retext.txt\")\n",
    "for linea in texto:\n",
    "    linea = linea.rstrip()\n",
    "    x = re.findall('.+@.+', linea)\n",
    "    if len(x) > 0:\n",
    "        print(linea)\n",
    "        print(x)"
   ]
  },
  {
   "cell_type": "markdown",
   "id": "9752f789",
   "metadata": {},
   "source": [
    "- Contar el número de espacios en blanco en el texto:"
   ]
  },
  {
   "cell_type": "code",
   "execution_count": 2,
   "id": "e16d0e1d",
   "metadata": {},
   "outputs": [
    {
     "name": "stdout",
     "output_type": "stream",
     "text": [
      "93\n"
     ]
    }
   ],
   "source": [
    "import re\n",
    "text = open(\"retext.txt\")\n",
    "i=0\n",
    "for linea in text:\n",
    "    linea = linea.rstrip()\n",
    "    x= re.findall(' ',linea)\n",
    "    if len(x) > 0:\n",
    "        i += len(x)  ##i = i + len(x)\n",
    "        #print(x) \n",
    "print(i)\n",
    "text.close()"
   ]
  },
  {
   "cell_type": "markdown",
   "id": "75806a33",
   "metadata": {},
   "source": [
    "- Busca líneas en el texto que contiene 'https'"
   ]
  },
  {
   "cell_type": "code",
   "execution_count": 5,
   "id": "074e8dd0",
   "metadata": {},
   "outputs": [
    {
     "name": "stdout",
     "output_type": "stream",
     "text": [
      "MÃ¡s informaciÃ³n: https://admision.lamolina.edu.pe/talleres\n",
      "https://www.facebook.com, http://youtube.com, https://discord.com/\n",
      "https://chat.openai.com/, https://visualstudio.microsoft.com/es/\n",
      "https://open.spotify.com/intl-es\n"
     ]
    }
   ],
   "source": [
    "text = open(\"retext.txt\")\n",
    "for linea in text:\n",
    "    linea = linea.rstrip()\n",
    "    if linea.find('https')>= 0:\n",
    "        print(linea)\n"
   ]
  },
  {
   "cell_type": "code",
   "execution_count": null,
   "id": "4e1f8af2",
   "metadata": {},
   "outputs": [],
   "source": []
  }
 ],
 "metadata": {
  "kernelspec": {
   "display_name": "Python 3 (ipykernel)",
   "language": "python",
   "name": "python3"
  },
  "language_info": {
   "codemirror_mode": {
    "name": "ipython",
    "version": 3
   },
   "file_extension": ".py",
   "mimetype": "text/x-python",
   "name": "python",
   "nbconvert_exporter": "python",
   "pygments_lexer": "ipython3",
   "version": "3.11.5"
  }
 },
 "nbformat": 4,
 "nbformat_minor": 5
}
