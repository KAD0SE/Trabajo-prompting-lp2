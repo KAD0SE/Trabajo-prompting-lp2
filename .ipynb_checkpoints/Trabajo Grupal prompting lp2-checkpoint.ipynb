{
 "cells": [
  {
   "cell_type": "markdown",
   "id": "a541f8be",
   "metadata": {},
   "source": [
    "# Tutorial de prompting efectivos para expresiones regulares "
   ]
  },
  {
   "cell_type": "markdown",
   "id": "574b6157",
   "metadata": {},
   "source": [
    "### Concepto\n",
    "Las expresiones regulares, también conocidas como regex o regexp, son patrones de búsqueda utilizados para encontrar, validar o manipular cadenas de texto de manera eficiente. En Python, el módulo 're' proporciona funciones y métodos para trabajar con expresiones regulares.\n",
    "\n",
    "### Aplicaciones\n",
    "Búsqueda, validación, extracción y manipulación de texto."
   ]
  },
  {
   "cell_type": "markdown",
   "id": "3b91942b",
   "metadata": {},
   "source": [
    "### Sintaxis básica\n",
    "\n",
    "Caracteres literales:\n",
    "- $ abc $ : Coincide con la secuencia 'abc'.\n",
    "Metacaracteres:\n",
    "- $ . $ : Cualquier carácter excepto nueva línea.\n",
    "- $ * $ : Cero o más repeticiones del carácter anterior.\n",
    "- $ + $ : Una o más repeticiones del carácter anterior.\n",
    "- $ ? $ : Cero o una repetición del carácter anterior.\n",
    "-  ^  : Coincide al principio de la cadena.\n",
    "-  $  : Coincide al final de la cadena.\n",
    "\n",
    "Conjunto de caracteres:\n",
    "-  [aeiou] : Coincide con cualquier vocal.\n",
    "\n",
    "Secuencia de escape:\n",
    "-  \\d  : Cualquier dígito.\n",
    "- \\w : Cualquier carácter alfanumérico.\n",
    "- \\s : Cualquier espacio en blanco."
   ]
  },
  {
   "cell_type": "code",
   "execution_count": null,
   "id": "47c3764c",
   "metadata": {},
   "outputs": [],
   "source": []
  }
 ],
 "metadata": {
  "kernelspec": {
   "display_name": "Python 3 (ipykernel)",
   "language": "python",
   "name": "python3"
  },
  "language_info": {
   "codemirror_mode": {
    "name": "ipython",
    "version": 3
   },
   "file_extension": ".py",
   "mimetype": "text/x-python",
   "name": "python",
   "nbconvert_exporter": "python",
   "pygments_lexer": "ipython3",
   "version": "3.11.4"
  }
 },
 "nbformat": 4,
 "nbformat_minor": 5
}
